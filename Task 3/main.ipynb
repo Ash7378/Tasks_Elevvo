{
 "cells": [
  {
   "cell_type": "markdown",
   "id": "7b336717",
   "metadata": {},
   "source": [
    "#Importing Data"
   ]
  },
  {
   "cell_type": "code",
   "execution_count": 5,
   "id": "039b8916",
   "metadata": {},
   "outputs": [
    {
     "data": {
      "text/html": [
       "<div>\n",
       "<style scoped>\n",
       "    .dataframe tbody tr th:only-of-type {\n",
       "        vertical-align: middle;\n",
       "    }\n",
       "\n",
       "    .dataframe tbody tr th {\n",
       "        vertical-align: top;\n",
       "    }\n",
       "\n",
       "    .dataframe thead th {\n",
       "        text-align: right;\n",
       "    }\n",
       "</style>\n",
       "<table border=\"1\" class=\"dataframe\">\n",
       "  <thead>\n",
       "    <tr style=\"text-align: right;\">\n",
       "      <th></th>\n",
       "      <th>Invoice</th>\n",
       "      <th>StockCode</th>\n",
       "      <th>Description</th>\n",
       "      <th>Quantity</th>\n",
       "      <th>InvoiceDate</th>\n",
       "      <th>Price</th>\n",
       "      <th>Customer ID</th>\n",
       "      <th>Country</th>\n",
       "    </tr>\n",
       "  </thead>\n",
       "  <tbody>\n",
       "    <tr>\n",
       "      <th>0</th>\n",
       "      <td>489434</td>\n",
       "      <td>85048</td>\n",
       "      <td>15CM CHRISTMAS GLASS BALL 20 LIGHTS</td>\n",
       "      <td>12</td>\n",
       "      <td>2009-12-01 07:45:00</td>\n",
       "      <td>6.95</td>\n",
       "      <td>13085.0</td>\n",
       "      <td>United Kingdom</td>\n",
       "    </tr>\n",
       "    <tr>\n",
       "      <th>1</th>\n",
       "      <td>489434</td>\n",
       "      <td>79323P</td>\n",
       "      <td>PINK CHERRY LIGHTS</td>\n",
       "      <td>12</td>\n",
       "      <td>2009-12-01 07:45:00</td>\n",
       "      <td>6.75</td>\n",
       "      <td>13085.0</td>\n",
       "      <td>United Kingdom</td>\n",
       "    </tr>\n",
       "    <tr>\n",
       "      <th>2</th>\n",
       "      <td>489434</td>\n",
       "      <td>79323W</td>\n",
       "      <td>WHITE CHERRY LIGHTS</td>\n",
       "      <td>12</td>\n",
       "      <td>2009-12-01 07:45:00</td>\n",
       "      <td>6.75</td>\n",
       "      <td>13085.0</td>\n",
       "      <td>United Kingdom</td>\n",
       "    </tr>\n",
       "    <tr>\n",
       "      <th>3</th>\n",
       "      <td>489434</td>\n",
       "      <td>22041</td>\n",
       "      <td>RECORD FRAME 7\" SINGLE SIZE</td>\n",
       "      <td>48</td>\n",
       "      <td>2009-12-01 07:45:00</td>\n",
       "      <td>2.10</td>\n",
       "      <td>13085.0</td>\n",
       "      <td>United Kingdom</td>\n",
       "    </tr>\n",
       "    <tr>\n",
       "      <th>4</th>\n",
       "      <td>489434</td>\n",
       "      <td>21232</td>\n",
       "      <td>STRAWBERRY CERAMIC TRINKET BOX</td>\n",
       "      <td>24</td>\n",
       "      <td>2009-12-01 07:45:00</td>\n",
       "      <td>1.25</td>\n",
       "      <td>13085.0</td>\n",
       "      <td>United Kingdom</td>\n",
       "    </tr>\n",
       "  </tbody>\n",
       "</table>\n",
       "</div>"
      ],
      "text/plain": [
       "  Invoice StockCode                          Description  Quantity  \\\n",
       "0  489434     85048  15CM CHRISTMAS GLASS BALL 20 LIGHTS        12   \n",
       "1  489434    79323P                   PINK CHERRY LIGHTS        12   \n",
       "2  489434    79323W                  WHITE CHERRY LIGHTS        12   \n",
       "3  489434     22041         RECORD FRAME 7\" SINGLE SIZE         48   \n",
       "4  489434     21232       STRAWBERRY CERAMIC TRINKET BOX        24   \n",
       "\n",
       "          InvoiceDate  Price  Customer ID         Country  \n",
       "0 2009-12-01 07:45:00   6.95      13085.0  United Kingdom  \n",
       "1 2009-12-01 07:45:00   6.75      13085.0  United Kingdom  \n",
       "2 2009-12-01 07:45:00   6.75      13085.0  United Kingdom  \n",
       "3 2009-12-01 07:45:00   2.10      13085.0  United Kingdom  \n",
       "4 2009-12-01 07:45:00   1.25      13085.0  United Kingdom  "
      ]
     },
     "execution_count": 5,
     "metadata": {},
     "output_type": "execute_result"
    }
   ],
   "source": [
    "import pandas as pd\n",
    "data=pd.read_excel(\"online_retail_II.xlsx\")\n",
    "data.head()"
   ]
  },
  {
   "cell_type": "markdown",
   "id": "fcbc2eac",
   "metadata": {},
   "source": [
    "#Cleaning the Data"
   ]
  },
  {
   "cell_type": "code",
   "execution_count": 7,
   "id": "ead7ae6d",
   "metadata": {},
   "outputs": [
    {
     "data": {
      "text/html": [
       "<div>\n",
       "<style scoped>\n",
       "    .dataframe tbody tr th:only-of-type {\n",
       "        vertical-align: middle;\n",
       "    }\n",
       "\n",
       "    .dataframe tbody tr th {\n",
       "        vertical-align: top;\n",
       "    }\n",
       "\n",
       "    .dataframe thead th {\n",
       "        text-align: right;\n",
       "    }\n",
       "</style>\n",
       "<table border=\"1\" class=\"dataframe\">\n",
       "  <thead>\n",
       "    <tr style=\"text-align: right;\">\n",
       "      <th></th>\n",
       "      <th>Invoice</th>\n",
       "      <th>StockCode</th>\n",
       "      <th>Description</th>\n",
       "      <th>Quantity</th>\n",
       "      <th>InvoiceDate</th>\n",
       "      <th>Price</th>\n",
       "      <th>Customer ID</th>\n",
       "      <th>Country</th>\n",
       "      <th>Total Price</th>\n",
       "    </tr>\n",
       "  </thead>\n",
       "  <tbody>\n",
       "    <tr>\n",
       "      <th>0</th>\n",
       "      <td>489434</td>\n",
       "      <td>85048</td>\n",
       "      <td>15CM CHRISTMAS GLASS BALL 20 LIGHTS</td>\n",
       "      <td>12</td>\n",
       "      <td>2009-12-01 07:45:00</td>\n",
       "      <td>6.95</td>\n",
       "      <td>13085.0</td>\n",
       "      <td>United Kingdom</td>\n",
       "      <td>83.4</td>\n",
       "    </tr>\n",
       "    <tr>\n",
       "      <th>1</th>\n",
       "      <td>489434</td>\n",
       "      <td>79323P</td>\n",
       "      <td>PINK CHERRY LIGHTS</td>\n",
       "      <td>12</td>\n",
       "      <td>2009-12-01 07:45:00</td>\n",
       "      <td>6.75</td>\n",
       "      <td>13085.0</td>\n",
       "      <td>United Kingdom</td>\n",
       "      <td>81.0</td>\n",
       "    </tr>\n",
       "    <tr>\n",
       "      <th>2</th>\n",
       "      <td>489434</td>\n",
       "      <td>79323W</td>\n",
       "      <td>WHITE CHERRY LIGHTS</td>\n",
       "      <td>12</td>\n",
       "      <td>2009-12-01 07:45:00</td>\n",
       "      <td>6.75</td>\n",
       "      <td>13085.0</td>\n",
       "      <td>United Kingdom</td>\n",
       "      <td>81.0</td>\n",
       "    </tr>\n",
       "    <tr>\n",
       "      <th>3</th>\n",
       "      <td>489434</td>\n",
       "      <td>22041</td>\n",
       "      <td>RECORD FRAME 7\" SINGLE SIZE</td>\n",
       "      <td>48</td>\n",
       "      <td>2009-12-01 07:45:00</td>\n",
       "      <td>2.10</td>\n",
       "      <td>13085.0</td>\n",
       "      <td>United Kingdom</td>\n",
       "      <td>100.8</td>\n",
       "    </tr>\n",
       "    <tr>\n",
       "      <th>4</th>\n",
       "      <td>489434</td>\n",
       "      <td>21232</td>\n",
       "      <td>STRAWBERRY CERAMIC TRINKET BOX</td>\n",
       "      <td>24</td>\n",
       "      <td>2009-12-01 07:45:00</td>\n",
       "      <td>1.25</td>\n",
       "      <td>13085.0</td>\n",
       "      <td>United Kingdom</td>\n",
       "      <td>30.0</td>\n",
       "    </tr>\n",
       "  </tbody>\n",
       "</table>\n",
       "</div>"
      ],
      "text/plain": [
       "  Invoice StockCode                          Description  Quantity  \\\n",
       "0  489434     85048  15CM CHRISTMAS GLASS BALL 20 LIGHTS        12   \n",
       "1  489434    79323P                   PINK CHERRY LIGHTS        12   \n",
       "2  489434    79323W                  WHITE CHERRY LIGHTS        12   \n",
       "3  489434     22041         RECORD FRAME 7\" SINGLE SIZE         48   \n",
       "4  489434     21232       STRAWBERRY CERAMIC TRINKET BOX        24   \n",
       "\n",
       "          InvoiceDate  Price  Customer ID         Country  Total Price  \n",
       "0 2009-12-01 07:45:00   6.95      13085.0  United Kingdom         83.4  \n",
       "1 2009-12-01 07:45:00   6.75      13085.0  United Kingdom         81.0  \n",
       "2 2009-12-01 07:45:00   6.75      13085.0  United Kingdom         81.0  \n",
       "3 2009-12-01 07:45:00   2.10      13085.0  United Kingdom        100.8  \n",
       "4 2009-12-01 07:45:00   1.25      13085.0  United Kingdom         30.0  "
      ]
     },
     "execution_count": 7,
     "metadata": {},
     "output_type": "execute_result"
    }
   ],
   "source": [
    "data=data[data['Customer ID'].notnull()]\n",
    "data=data[data['Quantity']>0]\n",
    "data=data[data['Invoice'].astype(str).str.startswith('C')==False]\n",
    "data['Total Price']=data['Quantity']*data['Price']\n",
    "data.head()"
   ]
  },
  {
   "cell_type": "markdown",
   "id": "d926c1c9",
   "metadata": {},
   "source": [
    "#RFM metrics"
   ]
  },
  {
   "cell_type": "code",
   "execution_count": 10,
   "id": "19de462c",
   "metadata": {},
   "outputs": [
    {
     "name": "stdout",
     "output_type": "stream",
     "text": [
      "   Customer ID  Recency  Frequency  Monetary\n",
      "0      12346.0      321         12  77556.46\n",
      "1      12347.0       35          7   5408.50\n",
      "2      12348.0       71          5   2019.40\n",
      "3      12349.0       14          4   4428.69\n",
      "4      12350.0      305          1    334.40\n"
     ]
    }
   ],
   "source": [
    "import datetime as dt\n",
    "snap_data=data['InvoiceDate'].max()+dt.timedelta(days=1)\n",
    "rfm=data.groupby('Customer ID').agg({'InvoiceDate':lambda x:(snap_data - x.max()).days,'Invoice': 'nunique','Total Price':'sum'})\n",
    "rfm.columns=['Recency','Frequency','Monetary']\n",
    "rfm=rfm.reset_index()\n",
    "print(rfm.head())\n"
   ]
  },
  {
   "cell_type": "markdown",
   "id": "8be8d82a",
   "metadata": {},
   "source": [
    "#Assigning RFM scores"
   ]
  },
  {
   "cell_type": "code",
   "execution_count": 12,
   "id": "7dc83dd4",
   "metadata": {},
   "outputs": [
    {
     "name": "stdout",
     "output_type": "stream",
     "text": [
      "Scorinng as 1(worst) to 4(best)\n",
      "   Customer ID  Recency  Frequency  Monetary R_score F_score M_score RFM_score\n",
      "0      12346.0      321         12  77556.46       2       4       4       244\n",
      "1      12347.0       35          7   5408.50       3       3       4       334\n",
      "2      12348.0       71          5   2019.40       3       3       3       333\n",
      "3      12349.0       14          4   4428.69       4       3       4       434\n",
      "4      12350.0      305          1    334.40       2       1       1       211\n"
     ]
    }
   ],
   "source": [
    "print(\"Scorinng as 1(worst) to 4(best)\")\n",
    "rfm['R_score']=pd.qcut(rfm['Recency'],4, labels=[4,3,2,1])\n",
    "rfm['F_score']=pd.qcut(rfm['Frequency'].rank(method='first'),4,labels=[1,2,3,4])\n",
    "rfm['M_score']=pd.qcut(rfm['Monetary'],4,labels=[1,2,3,4])\n",
    "rfm['RFM_score']=rfm['R_score'].astype(str)+rfm['F_score'].astype(str)+rfm['M_score'].astype(str)\n",
    "print(rfm.head())"
   ]
  },
  {
   "cell_type": "code",
   "execution_count": 26,
   "id": "ecf812bd",
   "metadata": {},
   "outputs": [
    {
     "name": "stdout",
     "output_type": "stream",
     "text": [
      "   Customer ID  Recency  Frequency  Monetary R_score F_score M_score  \\\n",
      "0      12346.0      321         12  77556.46       2       4       4   \n",
      "1      12347.0       35          7   5408.50       3       3       4   \n",
      "2      12348.0       71          5   2019.40       3       3       3   \n",
      "3      12349.0       14          4   4428.69       4       3       4   \n",
      "4      12350.0      305          1    334.40       2       1       1   \n",
      "5      12351.0      370          1    300.93       2       1       1   \n",
      "6      12352.0       31         10   2849.84       3       4       4   \n",
      "7      12353.0      199          2    406.76       2       2       2   \n",
      "8      12354.0      228          1   1079.40       2       1       3   \n",
      "9      12355.0      209          2    947.61       2       2       3   \n",
      "\n",
      "  RFM_score          Segment  \n",
      "0       244    New Customers  \n",
      "1       334           Others  \n",
      "2       333           Others  \n",
      "3       434           Others  \n",
      "4       211           Others  \n",
      "5       211           Others  \n",
      "6       344  Frequent Buyers  \n",
      "7       222           Others  \n",
      "8       213           Others  \n",
      "9       223           Others  \n"
     ]
    }
   ],
   "source": [
    "#Grouping Customers\n",
    "def grp_customer(data):\n",
    "    if data['RFM_score']=='444':\n",
    "        return 'Best Customers'\n",
    "    elif data['RFM_score']=='344':\n",
    "        return 'Frequent Buyers'\n",
    "    elif data['R_score']=='4':\n",
    "        return 'very recent customers'\n",
    "    elif data['RFM_score']=='244':\n",
    "        return 'New Customers'\n",
    "    elif data['F_score']=='4'and data['M_score']=='4':\n",
    "        return 'loyal Customers'\n",
    "    elif data['M_score']=='4'and data['R_score'] >='2':\n",
    "        return 'Big Spenders'\n",
    "    elif data['R_score']=='1':\n",
    "        return 'At Risk'\n",
    "    else:\n",
    "        return 'Others'\n",
    "rfm['Segment']=rfm.apply(grp_customer,axis=1)\n",
    "print(rfm.head(10))\n"
   ]
  },
  {
   "cell_type": "markdown",
   "id": "bd001c5c",
   "metadata": {},
   "source": [
    "#Visualize Segments"
   ]
  },
  {
   "cell_type": "code",
   "execution_count": 25,
   "id": "41f42726",
   "metadata": {},
   "outputs": [
    {
     "data": {
      "image/png": "[encoded data removed]",
      "text/plain": [
       "<Figure size 1000x500 with 1 Axes>"
      ]
     },
     "metadata": {},
     "output_type": "display_data"
    },
    {
     "data": {
      "image/png": "[encoded data removed]",
      "text/plain": [
       "<Figure size 1000x600 with 2 Axes>"
      ]
     },
     "metadata": {},
     "output_type": "display_data"
    }
   ],
   "source": [
    "import seaborn as sns\n",
    "import matplotlib.pyplot as plt\n",
    "\n",
    "plt.figure(figsize=(10,5))\n",
    "sns.countplot(x='Segment',data=rfm,order=rfm['Segment'].value_counts().index)\n",
    "plt.title(\"customer Segments\")\n",
    "plt.xticks(rotation=45)\n",
    "plt.show()\n",
    "#Heat map of mean values per segment\n",
    "segment_summary=rfm.groupby('Segment')[['Recency','Frequency','Monetary']].mean().round(1)\n",
    "plt.figure(figsize=(10,6))\n",
    "sns.heatmap(segment_summary,annot=True,cmap='YlGnBu')\n",
    "plt.title(\"Average RFM per segment\")\n",
    "plt.show()"
   ]
  },
  {
   "cell_type": "code",
   "execution_count": 27,
   "id": "9596fc0c",
   "metadata": {},
   "outputs": [],
   "source": [
    "#exporting data to excel\n",
    "rfm.to_excel(\"RFM_Segments.xlsx\",index=False)"
   ]
  }
 ],
 "metadata": {
  "kernelspec": {
   "display_name": "t3env",
   "language": "python",
   "name": "python3"
  },
  "language_info": {
   "codemirror_mode": {
    "name": "ipython",
    "version": 3
   },
   "file_extension": ".py",
   "mimetype": "text/x-python",
   "name": "python",
   "nbconvert_exporter": "python",
   "pygments_lexer": "ipython3",
   "version": "3.12.6"
  }
 },
 "nbformat": 4,
 "nbformat_minor": 5
}
